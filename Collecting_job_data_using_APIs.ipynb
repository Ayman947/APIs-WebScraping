{
  "nbformat": 4,
  "nbformat_minor": 0,
  "metadata": {
    "kernelspec": {
      "display_name": "Python 3",
      "language": "python",
      "name": "python3"
    },
    "language_info": {
      "codemirror_mode": {
        "name": "ipython",
        "version": 3
      },
      "file_extension": ".py",
      "mimetype": "text/x-python",
      "name": "python",
      "nbconvert_exporter": "python",
      "pygments_lexer": "ipython3",
      "version": "3.7.6"
    },
    "colab": {
      "name": "Collecting_job_data_using_APIs.ipynb",
      "provenance": [],
      "collapsed_sections": [
        "j7X5_LgBwdOB",
        "Tchmxr8qwdOB"
      ],
      "include_colab_link": true
    }
  },
  "cells": [
    {
      "cell_type": "markdown",
      "metadata": {
        "id": "view-in-github",
        "colab_type": "text"
      },
      "source": [
        "<a href=\"https://colab.research.google.com/github/Ayman947/Jop_Postings_APIs/blob/main/Collecting_job_data_using_APIs.ipynb\" target=\"_parent\"><img src=\"https://colab.research.google.com/assets/colab-badge.svg\" alt=\"Open In Colab\"/></a>"
      ]
    },
    {
      "cell_type": "markdown",
      "metadata": {
        "id": "j7X5_LgBwdOB"
      },
      "source": [
        "## We are going to determine the number of jobs currently open for various technologies, such as: \n"
      ]
    },
    {
      "cell_type": "markdown",
      "metadata": {
        "id": "49491CCpm6On"
      },
      "source": [
        "-   C\n",
        "-   C#\n",
        "-   C++\n",
        "-   Java\n",
        "-   JavaScript\n",
        "-   Python\n",
        "-   Scala\n",
        "-   Oracle\n",
        "-   SQL Server\n",
        "-   MySQL Server\n",
        "-   PostgreSQL\n",
        "-   MongoDB\n",
        "\n",
        "\n",
        "\n",
        ">>>>>>> The data source: \n",
        "- [https://jobs.github.com/](https://)"
      ]
    },
    {
      "cell_type": "markdown",
      "metadata": {
        "id": "nXJU8p68mP_h"
      },
      "source": [
        "\n",
        "\n",
        "---\n",
        "\n",
        "\n",
        "\n",
        "---\n",
        "\n",
        "\n",
        "\n",
        "---\n",
        "\n"
      ]
    },
    {
      "cell_type": "markdown",
      "metadata": {
        "id": "Tchmxr8qwdOB"
      },
      "source": [
        "## Collecting the number of job postings by the following API & function:\n",
        "\n"
      ]
    },
    {
      "cell_type": "code",
      "metadata": {
        "id": "b3z07zr6MmAy"
      },
      "source": [
        "# Importing requests to make an API call\n",
        "import requests    \n",
        "\n",
        "\n",
        "# A function to get the number of job postings for a given technology\n",
        "def get_number_of_jobs(technology):  \n",
        "    \n",
        "    # Initializing a variable to hold the no. of postings\n",
        "    number_of_jobs = 0  \n",
        "   \n",
        "    # Initializing a variable to hold the count of pages\n",
        "    page_counter = 1    \n",
        "    \n",
        "    # Assigning a dynamic url to be requested by TECHNOLOGY & PAGE NO.\n",
        "    api_url = 'https://jobs.github.com/positions.json?description='+str(technology)+'&page='+str(page_counter)       \n",
        "\n",
        "    # Assigning the request into a response variable\n",
        "    response = requests.get(api_url)      \n",
        "\n",
        "    # Then into a list if it has no errors\n",
        "    if response.ok:      \n",
        "     jobs = response.json()\n",
        "\n",
        "\n",
        "    # Test if the no. of jobs in the requested url is less than 50 (i.e the max possible in this web)\n",
        "    if len(jobs) < 50:\n",
        "      \n",
        "      # If true the assign the no. into the variable \n",
        "      number_of_jobs = len(jobs)\n",
        "      \n",
        "    # If it reached the max results, then there is a possibility that there is other results in following pages  \n",
        "    else:\n",
        "       \n",
        "       # As the results reach its max. no. then continue requesting the following pages\n",
        "       while  len(jobs) == 50:\n",
        "         \n",
        "         # Shifting to the following pages\n",
        "         page_counter = page_counter + 1\n",
        "\n",
        "         # Requesting the following page\n",
        "         api_url = 'https://jobs.github.com/positions.json?description='+str(technology)+'&page='+str(page_counter)\n",
        "         response = requests.get(api_url)\n",
        "    \n",
        "         if response.ok:\n",
        "          jobs = response.json()\n",
        "       \n",
        "       # Once the no. of results doesn't reach the max no. of results\n",
        "       # Then, we are going to calculate the total no. of job postings till the last job, we have just reached\n",
        "       number_of_jobs = ( 50 * (page_counter - 1) ) + len(jobs)\n",
        "\n",
        "    # Returning the results in a list \n",
        "    return [technology, number_of_jobs]"
      ],
      "execution_count": null,
      "outputs": []
    },
    {
      "cell_type": "code",
      "metadata": {
        "id": "TCda_qwkk8tF"
      },
      "source": [
        "# Assiginig the technologies to-be-requested\n",
        "# Note that we will search for C++ & C# as: C%2B%2B & C%23, consecuteviley \n",
        "technologies = [ 'C', 'C%2B%2B', 'C%23', 'Java', 'JavaScript', 'Python', 'Scala', 'Oracle', 'SQL Server', 'MySQL Server', 'PostgreSQL', 'MongoDB']\n",
        "\n",
        "# Getting the no. of postings for each job\n",
        "job_stats = [ get_number_of_jobs(tech) for tech in technologies]\n",
        "\n",
        "# Renaming C++ & C# for relevance\n",
        "job_stats[1][0] = 'c++'\n",
        "job_stats[2][0] = 'c#'"
      ],
      "execution_count": null,
      "outputs": []
    },
    {
      "cell_type": "code",
      "metadata": {
        "colab": {
          "base_uri": "https://localhost:8080/"
        },
        "id": "KvGSDIbKOahR",
        "outputId": "dc5ff595-cd81-4131-a85c-8687c3c2d6cd"
      },
      "source": [
        "# Viewing the final results\n",
        "print(\"\\n\\nThe number job postings on GitHub jobs portal, by technology name:\\n\")\n",
        "job_stats  "
      ],
      "execution_count": 158,
      "outputs": [
        {
          "output_type": "stream",
          "text": [
            "\n",
            "\n",
            "The number job postings on GitHub jobs portal, by technology name:\n",
            "\n"
          ],
          "name": "stdout"
        },
        {
          "output_type": "execute_result",
          "data": {
            "text/plain": [
              "[['C', 179],\n",
              " ['c++', 24],\n",
              " ['c#', 14],\n",
              " ['Java', 89],\n",
              " ['JavaScript', 62],\n",
              " ['Python', 51],\n",
              " ['Scala', 46],\n",
              " ['Oracle', 6],\n",
              " ['SQL Server', 16],\n",
              " ['MySQL Server', 4],\n",
              " ['PostgreSQL', 16],\n",
              " ['MongoDB', 4]]"
            ]
          },
          "metadata": {
            "tags": []
          },
          "execution_count": 158
        }
      ]
    },
    {
      "cell_type": "markdown",
      "metadata": {
        "id": "43ik2qUknCEk"
      },
      "source": [
        "\n",
        "\n",
        "---\n",
        "\n",
        "\n",
        "\n",
        "---\n",
        "\n",
        "\n",
        "\n",
        "---\n",
        "\n"
      ]
    },
    {
      "cell_type": "markdown",
      "metadata": {
        "id": "d07y01sGwdOB"
      },
      "source": [
        "## Storing the results in an excel file\n"
      ]
    },
    {
      "cell_type": "code",
      "metadata": {
        "id": "aaxnVck2u9OP"
      },
      "source": [
        "from openpyxl import Workbook           # importing Workbook class from module openpyxl\n",
        "wb=Workbook()                           # creating a workbook object\n",
        "ws=wb.active                            # using the active worksheet\n",
        "ws.append(['Technology','Job_count'])   # adding a row with column_names\n",
        "\n",
        "[ ws.append(i)  for i in job_stats]     # adding every response to the workbook\n",
        "\n",
        "wb.save(\"JOB_STATS.xlsx\")               # saving the workbook into a file called JOB_STATS.xlsx"
      ],
      "execution_count": 161,
      "outputs": []
    }
  ]
}
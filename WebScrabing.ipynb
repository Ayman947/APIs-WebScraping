{
  "nbformat": 4,
  "nbformat_minor": 0,
  "metadata": {
    "kernelspec": {
      "display_name": "Python 3",
      "language": "python",
      "name": "python3"
    },
    "language_info": {
      "codemirror_mode": {
        "name": "ipython",
        "version": 3
      },
      "file_extension": ".py",
      "mimetype": "text/x-python",
      "name": "python",
      "nbconvert_exporter": "python",
      "pygments_lexer": "ipython3",
      "version": "3.7.6"
    },
    "colab": {
      "name": "WebScrabing.ipynb",
      "provenance": [],
      "collapsed_sections": [],
      "include_colab_link": true
    }
  },
  "cells": [
    {
      "cell_type": "markdown",
      "metadata": {
        "id": "view-in-github",
        "colab_type": "text"
      },
      "source": [
        "<a href=\"https://colab.research.google.com/github/Ayman947/Jop_Postings_APIs/blob/main/WebScrabing.ipynb\" target=\"_parent\"><img src=\"https://colab.research.google.com/assets/colab-badge.svg\" alt=\"Open In Colab\"/></a>"
      ]
    },
    {
      "cell_type": "markdown",
      "metadata": {
        "id": "CJezW0hCG1_u"
      },
      "source": [
        "# **Web Scraping**\n"
      ]
    },
    {
      "cell_type": "markdown",
      "metadata": {
        "id": "lGtYWtVJG1_v"
      },
      "source": [
        "## Scrape **links** & **images** from [ www.ibm.com ]\n"
      ]
    },
    {
      "cell_type": "code",
      "metadata": {
        "id": "tqahzAmwSolK"
      },
      "source": [
        "# importing web scraping libraries\n",
        "\n",
        "from bs4 import BeautifulSoup # This module helps in web scrapping.\n",
        "import requests               # This module helps us to download a web page\n",
        "\n",
        "# Assigning the URL to a variable\n",
        "url = str(input(\"\\n\\nPlease, enter the URL:\"))\n",
        "\n",
        "# Getting the contents of the webpage in text format and store in a variable called data\n",
        "data = requests.get(url).text\n",
        "\n",
        "# create a soup object using the variable 'data'\n",
        "soup = BeautifulSoup(data,\"html5lib\")"
      ],
      "execution_count": null,
      "outputs": []
    },
    {
      "cell_type": "markdown",
      "metadata": {
        "id": "9iDjlRKeJwBk"
      },
      "source": [
        "#### Scraping **links**"
      ]
    },
    {
      "cell_type": "code",
      "metadata": {
        "id": "AP7eg9eWJz8h"
      },
      "source": [
        "#### Scraping links\n",
        "\n",
        "# in html anchor/link is represented by the tag <a>\n",
        "for link in soup.find_all('a'):\n",
        "    print(link.get('href'))"
      ],
      "execution_count": null,
      "outputs": []
    },
    {
      "cell_type": "markdown",
      "metadata": {
        "id": "x9Sz-4CuJ0RB"
      },
      "source": [
        "#### Scraping **images**"
      ]
    },
    {
      "cell_type": "code",
      "metadata": {
        "id": "UvmniV8DG1_w"
      },
      "source": [
        "#### Scraping images\n",
        "\n",
        "# in html image is represented by the tag <img>\n",
        "for link in soup.find_all('img'):\n",
        "    print(link.get('src'))"
      ],
      "execution_count": null,
      "outputs": []
    },
    {
      "cell_type": "markdown",
      "metadata": {
        "id": "s2e6fxWmG1_w"
      },
      "source": [
        "## Scraping data from html **tables**\n"
      ]
    },
    {
      "cell_type": "code",
      "metadata": {
        "colab": {
          "base_uri": "https://localhost:8080/"
        },
        "id": "73CMZO60S1dB",
        "outputId": "7fc89f8d-d653-4ac1-e5a5-4053d1fce7b5"
      },
      "source": [
        "# importing web scraping libraries\n",
        "\n",
        "from bs4 import BeautifulSoup # This module helps in web scrapping.\n",
        "import requests               # This module helps us to download a web page\n",
        "\n",
        "# Assigning the URL to a variable\n",
        "url = str(input(\"\\n\\nPlease, enter the URL:\"))\n",
        "\n",
        "# Getting the contents of the webpage in text format and store in a variable called data\n",
        "data = requests.get(url).text\n",
        "\n",
        "\n",
        "# create a soup object using the variable 'data'\n",
        "soup = BeautifulSoup(data,\"html5lib\")"
      ],
      "execution_count": 47,
      "outputs": [
        {
          "output_type": "stream",
          "text": [
            "\n",
            "\n",
            "Please, enter the URL:https://cf-courses-data.s3.us.cloud-object-storage.appdomain.cloud/IBM-DA0321EN-SkillsNetwork/labs/datasets/HTMLColorCodes.html\n"
          ],
          "name": "stdout"
        }
      ]
    },
    {
      "cell_type": "code",
      "metadata": {
        "id": "mRFQiUwRTf2U"
      },
      "source": [
        "#### Scraping tables\n",
        "\n",
        "# Getting the table using the soup object\n",
        "table = soup.find('table')\n",
        "\n",
        "# Geting all rows from the table\n",
        "for row in table.find_all('tr'):\n",
        "\n",
        "  # Getting all columns in each row.\n",
        "  cols = row.find_all('td')\n",
        "\n",
        "  # Getting the text values of columns and Assigning them into variables\n",
        "  color_name = cols[2].getText()      # store the value in column 3 as color_name\n",
        "  color_code = cols[3].getText()      # store the value in column 4 as color_code\n",
        "\n",
        "  # Printing the previously defined variables\n",
        "  print(\"\\n\\n{}--->{}\".format(color_name,color_code))"
      ],
      "execution_count": null,
      "outputs": []
    },
    {
      "cell_type": "code",
      "metadata": {
        "id": "cebnNcKuTsq1"
      },
      "source": [
        ""
      ],
      "execution_count": null,
      "outputs": []
    }
  ]
}